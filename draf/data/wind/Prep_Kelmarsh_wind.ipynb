{
 "cells": [
  {
   "cell_type": "markdown",
   "id": "3696e31d",
   "metadata": {},
   "source": [
    "This notebook documents how the `wind_kelmarsh_2019.csv` file was calculated.\n",
    "The source file `Turbine_Data_Kelmarsh_2_2019-01-01_-_2020-01-01_229.csv` is not part of draf since it has 150 MB."
   ]
  },
  {
   "cell_type": "code",
   "execution_count": 1,
   "id": "b6ee70e3",
   "metadata": {},
   "outputs": [],
   "source": [
    "files = {\n",
    "    # 1: \"Turbine_Data_Kelmarsh_1_2019-01-01_-_2020-01-01_228.csv\",\n",
    "    2: \"Turbine_Data_Kelmarsh_2_2019-01-01_-_2020-01-01_229.csv\",\n",
    "    # 3: \"Turbine_Data_Kelmarsh_3_2019-01-01_-_2020-01-01_230.csv\",\n",
    "    # 4: \"Turbine_Data_Kelmarsh_4_2019-01-01_-_2020-01-01_231.csv\",\n",
    "    # 5: \"Turbine_Data_Kelmarsh_5_2019-01-01_-_2020-01-01_232.csv\",\n",
    "    # 6: \"Turbine_Data_Kelmarsh_6_2019-01-01_-_2020-01-01_233.csv\",\n",
    "}\n",
    "\n",
    "import pandas as pd\n",
    "from pathlib import Path\n",
    "import numpy as np\n",
    "from draf.helper import write\n",
    "\n",
    "turbine_capacity = 2050  # kW see also https://www.wind-turbine-models.com/turbines/889-senvion-mm92\n",
    "\n",
    "# downloaded Kelmarsh_SCADA_2019_3085.zip from https://doi.org/10.5281/zenodo.5841834\n",
    "# print(Path(files[1]).read_text()[:1500])"
   ]
  },
  {
   "cell_type": "code",
   "execution_count": 2,
   "id": "9c4fc0b6",
   "metadata": {},
   "outputs": [],
   "source": [
    "def get_profile(turbine):\n",
    "    df_orig = pd.read_csv(Path(files[turbine]), skiprows=9, index_col=0, parse_dates=True)\n",
    "    return df_orig.loc[\"2019\", \"Energy Export (kWh)\"].resample(\"H\").sum().reset_index(drop=True) / turbine_capacity"
   ]
  },
  {
   "cell_type": "code",
   "execution_count": 3,
   "id": "da9fa5cd",
   "metadata": {},
   "outputs": [],
   "source": [
    "ser = get_profile(turbine=2)"
   ]
  },
  {
   "cell_type": "code",
   "execution_count": 4,
   "id": "2943fbc8",
   "metadata": {},
   "outputs": [
    {
     "name": "stdout",
     "output_type": "stream",
     "text": [
      "The capacity factor is 0.33\n"
     ]
    }
   ],
   "source": [
    "print(f\"The capacity factor is {ser.mean():.2f}\")"
   ]
  },
  {
   "cell_type": "code",
   "execution_count": 5,
   "id": "91b150be",
   "metadata": {},
   "outputs": [],
   "source": [
    "# convert from UTC to German winter time\n",
    "ser = pd.Series(data=np.roll(ser, 1), index=ser.index, name=\"Power\")"
   ]
  },
  {
   "cell_type": "code",
   "execution_count": 6,
   "id": "ef42eadd",
   "metadata": {},
   "outputs": [
    {
     "data": {
      "text/plain": [
       "0.3288368972045885"
      ]
     },
     "execution_count": 6,
     "metadata": {},
     "output_type": "execute_result"
    }
   ],
   "source": [
    "ser.mean()"
   ]
  },
  {
   "cell_type": "code",
   "execution_count": 7,
   "id": "37d06dc5",
   "metadata": {},
   "outputs": [],
   "source": [
    "assert len(ser) == 8760"
   ]
  },
  {
   "cell_type": "code",
   "execution_count": 8,
   "id": "c7db1ff0",
   "metadata": {},
   "outputs": [
    {
     "data": {
      "text/plain": [
       "count    8760.000000\n",
       "mean        0.328837\n",
       "std         0.297384\n",
       "min         0.000000\n",
       "25%         0.081951\n",
       "50%         0.235610\n",
       "75%         0.510732\n",
       "max         1.001951\n",
       "Name: Power, dtype: float64"
      ]
     },
     "execution_count": 8,
     "metadata": {},
     "output_type": "execute_result"
    }
   ],
   "source": [
    "ser.describe()"
   ]
  },
  {
   "cell_type": "code",
   "execution_count": 9,
   "id": "7586d3e7",
   "metadata": {},
   "outputs": [],
   "source": [
    "write(ser, \"2019_wind_kelmarsh2.csv\")"
   ]
  }
 ],
 "metadata": {
  "kernelspec": {
   "display_name": "Python 3",
   "language": "python",
   "name": "python3"
  },
  "language_info": {
   "codemirror_mode": {
    "name": "ipython",
    "version": 3
   },
   "file_extension": ".py",
   "mimetype": "text/x-python",
   "name": "python",
   "nbconvert_exporter": "python",
   "pygments_lexer": "ipython3",
   "version": "3.9.13"
  },
  "toc": {
   "base_numbering": 1,
   "nav_menu": {},
   "number_sections": true,
   "sideBar": true,
   "skip_h1_title": false,
   "title_cell": "Table of Contents",
   "title_sidebar": "Contents",
   "toc_cell": false,
   "toc_position": {},
   "toc_section_display": true,
   "toc_window_display": false
  },
  "vscode": {
   "interpreter": {
    "hash": "b0fa6594d8f4cbf19f97940f81e996739fb7646882a419484c72d19e05852a7e"
   }
  }
 },
 "nbformat": 4,
 "nbformat_minor": 5
}
